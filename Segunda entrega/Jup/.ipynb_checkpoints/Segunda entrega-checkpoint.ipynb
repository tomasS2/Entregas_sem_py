{
 "cells": [
  {
   "cell_type": "markdown",
   "id": "d5e97f35",
   "metadata": {},
   "source": [
    "# Ejercicio 10. Practica 2.\n",
    "\n",
    " #### 10. Trabajando con los contenidos de los archivos que pueden acceder en el curso:\n",
    "*     nombres\n",
    "*     eval1\n",
    "*     eval2\n",
    " \n",
    " #### Manipule estos archivos para realizar lo siguiente:\n",
    " \n",
    "  • Generar una estructura con los nombres de los estudiantes y la suma de ambas notas.\n",
    "  \n",
    "  • Calcular el promedio de las notas totales e informar que alumnos obtuvieron menos que el promedio.\n"
   ]
  },
  {
   "cell_type": "markdown",
   "id": "41a483cf",
   "metadata": {},
   "source": [
    "\n",
    "\n",
    "\n",
    "\n",
    "\n",
    "### Abro cada archivo en modo lectura y los guardo en distintas variables de tipo lista.\n"
   ]
  },
  {
   "cell_type": "code",
   "execution_count": 20,
   "id": "14345889",
   "metadata": {},
   "outputs": [],
   "source": [
    "archivo = open (\"eval1.txt\",\"r\")\n",
    "notas1 = archivo.read().split(\",\")\n",
    "archivo.close()\n",
    "notas1 = list(map(int,notas1))  \n",
    "\n",
    "archivo = open (\"eval2.txt\",\"r\")\n",
    "notas2 = archivo.read().split(\",\")\n",
    "archivo.close()\n",
    "notas2 = list(map(int,notas2))  \n",
    "\n",
    "archivo = open(\"nombres_1.txt\",\"r\",encoding = \"utf-8\") #tiene un salto de linea este txt al final. Por eso el \"utf-8\"\n",
    "nombres = archivo.read().split(\"\\n\")\n",
    "archivo.close()\n",
    "nombres.pop(-1) #en el txt de nombres hay un salto de linea abajo del ultimo nombre y me daba error. Con esto lo elimino."
   ]
  },
  {
   "cell_type": "markdown",
   "id": "071a0423",
   "metadata": {},
   "source": [
    "### Funciones que se encargan de realizar lo pedido por el enunciado.\n"
   ]
  },
  {
   "cell_type": "code",
   "execution_count": 17,
   "id": "4e85ffc8",
   "metadata": {},
   "outputs": [],
   "source": [
    "def generarEstructuraEstudiantes(nombres,notas_suma):\n",
    "    \"\"\"devuelve el promedio de las notas y  \n",
    "    un iterador de tuplas con los nombres de \n",
    "    los alumnos y los valores la suma de sus notas.  \"\"\"\n",
    "\n",
    "    info_alum = zip(nombres,notas_suma)\n",
    "    prom = sum(notas_suma) / (len(notas_suma))\n",
    "    return info_alum, prom\n",
    "\n",
    "\n",
    "def informarPromedioInferior(info_alum,prom):\n",
    "    \"\"\"informa los alumnos que sacaron una nota inferior al promedio\"\"\"\n",
    "\n",
    "    for elem in info_alum:\n",
    "        if elem[1] < prom:\n",
    "            print(f\"alumno/a {elem[0]} obtuvo una nota inferior al promedio\")\n"
   ]
  },
  {
   "cell_type": "markdown",
   "id": "3b9c322b",
   "metadata": {},
   "source": [
    "### Creo una lista que guarde la suma de las notas de cada alumno para calcular el promedio.\n",
    "### En la lista de nombres reemplazo el caracter \",\", que viene en cada nombre, por nada."
   ]
  },
  {
   "cell_type": "code",
   "execution_count": 18,
   "id": "40ff074d",
   "metadata": {},
   "outputs": [],
   "source": [
    "notas_suma = []\n",
    "\n",
    "for i in range(len(notas1)):\n",
    "    notas_suma.append(notas1[i] + notas2[i])\n",
    "\n",
    "for i,nom in enumerate(nombres):   \n",
    "    nombres[i] = nom.replace(\",\",\"\")"
   ]
  },
  {
   "cell_type": "markdown",
   "id": "37380d2d",
   "metadata": {},
   "source": [
    "### Invocacion a los módulos."
   ]
  },
  {
   "cell_type": "code",
   "execution_count": null,
   "id": "5999e252",
   "metadata": {},
   "outputs": [],
   "source": [
    "info_alum,prom = generarEstructuraEstudiantes(nombres,notas_suma)\n",
    "informarPromedioInferior(info_alum,prom)"
   ]
  }
 ],
 "metadata": {
  "kernelspec": {
   "display_name": "Python 3 (ipykernel)",
   "language": "python",
   "name": "python3"
  },
  "language_info": {
   "codemirror_mode": {
    "name": "ipython",
    "version": 3
   },
   "file_extension": ".py",
   "mimetype": "text/x-python",
   "name": "python",
   "nbconvert_exporter": "python",
   "pygments_lexer": "ipython3",
   "version": "3.10.2"
  }
 },
 "nbformat": 4,
 "nbformat_minor": 5
}
